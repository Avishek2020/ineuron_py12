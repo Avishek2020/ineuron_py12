{
  "nbformat": 4,
  "nbformat_minor": 0,
  "metadata": {
    "colab": {
      "name": "Copy of Session 1_ Assignment 1.ipynb",
      "provenance": [],
      "authorship_tag": "ABX9TyNPHmr/hY1SwWHy97DYC1zY",
      "include_colab_link": true
    },
    "kernelspec": {
      "name": "python3",
      "display_name": "Python 3"
    }
  },
  "cells": [
    {
      "cell_type": "markdown",
      "metadata": {
        "id": "view-in-github",
        "colab_type": "text"
      },
      "source": [
        "<a href=\"https://colab.research.google.com/github/Avishek2020/ineuron_py12/blob/master/Session_1__Assignment_1.ipynb\" target=\"_parent\"><img src=\"https://colab.research.google.com/assets/colab-badge.svg\" alt=\"Open In Colab\"/></a>"
      ]
    },
    {
      "cell_type": "markdown",
      "metadata": {
        "id": "fVgccA17LCSl",
        "colab_type": "text"
      },
      "source": [
        "## Task 1"
      ]
    },
    {
      "cell_type": "markdown",
      "metadata": {
        "id": "Wd9LlJkALLIm",
        "colab_type": "text"
      },
      "source": [
        "###### 1.Install Jupyter notebook and run the first program and share the screenshot of the output.\n",
        "[Screen Link](https://ibb.co/WpWmPYM)"
      ]
    },
    {
      "cell_type": "markdown",
      "metadata": {
        "id": "y1EKV2SRLTfG",
        "colab_type": "text"
      },
      "source": [
        "######2. Write a program which will find all such numbers which are divisible by 7 but are not a multiple of 5, between 2000 and 3200 (both included). The numbers obtained should be printed in a comma-separated sequence on a single line."
      ]
    },
    {
      "cell_type": "code",
      "metadata": {
        "id": "MnE19ELaLZd0",
        "colab_type": "code",
        "outputId": "8d4bffe5-3d57-4b61-8113-26ac8341a523",
        "colab": {
          "base_uri": "https://localhost:8080/",
          "height": 54
        }
      },
      "source": [
        "out_list=[]\n",
        "for i in range(2000,3201):\n",
        "    if i%7==0 and i%5!=0:\n",
        "        out_list.append(i)\n",
        "print(out_list)        "
      ],
      "execution_count": 0,
      "outputs": [
        {
          "output_type": "stream",
          "text": [
            "[2002, 2009, 2016, 2023, 2037, 2044, 2051, 2058, 2072, 2079, 2086, 2093, 2107, 2114, 2121, 2128, 2142, 2149, 2156, 2163, 2177, 2184, 2191, 2198, 2212, 2219, 2226, 2233, 2247, 2254, 2261, 2268, 2282, 2289, 2296, 2303, 2317, 2324, 2331, 2338, 2352, 2359, 2366, 2373, 2387, 2394, 2401, 2408, 2422, 2429, 2436, 2443, 2457, 2464, 2471, 2478, 2492, 2499, 2506, 2513, 2527, 2534, 2541, 2548, 2562, 2569, 2576, 2583, 2597, 2604, 2611, 2618, 2632, 2639, 2646, 2653, 2667, 2674, 2681, 2688, 2702, 2709, 2716, 2723, 2737, 2744, 2751, 2758, 2772, 2779, 2786, 2793, 2807, 2814, 2821, 2828, 2842, 2849, 2856, 2863, 2877, 2884, 2891, 2898, 2912, 2919, 2926, 2933, 2947, 2954, 2961, 2968, 2982, 2989, 2996, 3003, 3017, 3024, 3031, 3038, 3052, 3059, 3066, 3073, 3087, 3094, 3101, 3108, 3122, 3129, 3136, 3143, 3157, 3164, 3171, 3178, 3192, 3199]\n"
          ],
          "name": "stdout"
        }
      ]
    },
    {
      "cell_type": "markdown",
      "metadata": {
        "id": "e9gHigJTYEB6",
        "colab_type": "text"
      },
      "source": [
        "###### 3. Write a Python program to accept the user's first and last name and then getting them printed in the the reverse order with a space between first name and last name."
      ]
    },
    {
      "cell_type": "code",
      "metadata": {
        "id": "blwmLlldYKen",
        "colab_type": "code",
        "outputId": "ada9f4a7-931a-45a9-8ac1-8901b607f0f1",
        "colab": {
          "base_uri": "https://localhost:8080/",
          "height": 71
        }
      },
      "source": [
        "firstname ,lastname = input(\"Enter first Name and Last Name with Space\").split(\" \")\n",
        "print(firstname[::-1]+\" \"+lastname[::-1])"
      ],
      "execution_count": 0,
      "outputs": [
        {
          "output_type": "stream",
          "text": [
            "Enter first Name and Last Name with SpaceAvishek Mishra\n",
            "kehsivA arhsiM\n"
          ],
          "name": "stdout"
        }
      ]
    },
    {
      "cell_type": "markdown",
      "metadata": {
        "id": "73-EME1VLZ25",
        "colab_type": "text"
      },
      "source": [
        "######4.Write a Python program to find the volume of a sphere with diameter 12 cm. \n",
        "**Formula:** V=4/3 * π * r3"
      ]
    },
    {
      "cell_type": "code",
      "metadata": {
        "id": "B3mrT4TJY5Ob",
        "colab_type": "code",
        "outputId": "c9878818-8c4a-4f2c-bda3-7c590d23fdb4",
        "colab": {
          "base_uri": "https://localhost:8080/",
          "height": 71
        }
      },
      "source": [
        "diameter = int(input(\"Enter Diamter: \"))\n",
        "radius = (diameter/2)\n",
        "V =((4/3)*(3.14)*(radius**3))\n",
        "print(\"Volume of a sphere: \",V)"
      ],
      "execution_count": 0,
      "outputs": [
        {
          "output_type": "stream",
          "text": [
            "Enter Diamter: 12\n",
            "Volume of a sphere:  904.3199999999999\n"
          ],
          "name": "stdout"
        }
      ]
    },
    {
      "cell_type": "code",
      "metadata": {
        "id": "oQEiEMzMe_WR",
        "colab_type": "code",
        "outputId": "10a1da09-0d92-4d25-89b4-879f5b9fef16",
        "colab": {
          "base_uri": "https://localhost:8080/",
          "height": 34
        }
      },
      "source": [
        " "
      ],
      "execution_count": 0,
      "outputs": [
        {
          "output_type": "execute_result",
          "data": {
            "text/plain": [
              "8"
            ]
          },
          "metadata": {
            "tags": []
          },
          "execution_count": 152
        }
      ]
    },
    {
      "cell_type": "markdown",
      "metadata": {
        "id": "z1XfGJRjx9Sp",
        "colab_type": "text"
      },
      "source": [
        "## Task 2:"
      ]
    },
    {
      "cell_type": "markdown",
      "metadata": {
        "id": "hgGl8uIUx1k6",
        "colab_type": "text"
      },
      "source": [
        "###### 1. Write a program which accepts a sequence of comma-separated numbers from console and generate a list."
      ]
    },
    {
      "cell_type": "code",
      "metadata": {
        "id": "OOcOXH5xyA-F",
        "colab_type": "code",
        "outputId": "2df1bfcc-8290-4c62-a7cd-aca81a96f2b0",
        "colab": {
          "base_uri": "https://localhost:8080/",
          "height": 71
        }
      },
      "source": [
        "number = input(\"Enter sequence of comma-separated numbers : \").split(\",\")\n",
        "print(\"output list:\",number)"
      ],
      "execution_count": 0,
      "outputs": [
        {
          "output_type": "stream",
          "text": [
            "Enter sequence of comma-separated numbers : 1,2,3,4,5,6\n",
            "output list: ['1', '2', '3', '4', '5', '6']\n"
          ],
          "name": "stdout"
        }
      ]
    },
    {
      "cell_type": "markdown",
      "metadata": {
        "id": "iHzn4_Qxxsxn",
        "colab_type": "text"
      },
      "source": [
        "###### 2. Create the below pattern using nested for loop in Python."
      ]
    },
    {
      "cell_type": "code",
      "metadata": {
        "id": "TpoyPejkGYmw",
        "colab_type": "code",
        "outputId": "43d89e33-9d04-487e-ea35-8d21a955073b",
        "colab": {
          "base_uri": "https://localhost:8080/",
          "height": 170
        }
      },
      "source": [
        "for i in range(1,6,1):\n",
        "    for j in range(i):\n",
        "        print(\"*\", end=\"\")\n",
        "    print()\n",
        "for k in range(4,0,-1):\n",
        "    for l in range(k):\n",
        "        print(\"*\", end =\"\")\n",
        "    print()\n"
      ],
      "execution_count": 0,
      "outputs": [
        {
          "output_type": "stream",
          "text": [
            "*\n",
            "**\n",
            "***\n",
            "****\n",
            "*****\n",
            "****\n",
            "***\n",
            "**\n",
            "*\n"
          ],
          "name": "stdout"
        }
      ]
    },
    {
      "cell_type": "markdown",
      "metadata": {
        "id": "ZyzxIWFOxhFr",
        "colab_type": "text"
      },
      "source": [
        "###### 3. Write a Python Program to reverse a word after accepting the input from the user."
      ]
    },
    {
      "cell_type": "code",
      "metadata": {
        "id": "ZsFWhNUWxZxV",
        "colab_type": "code",
        "outputId": "eecc8621-9968-4277-c8c6-78d5b1249d57",
        "colab": {
          "base_uri": "https://localhost:8080/",
          "height": 51
        }
      },
      "source": [
        "word = input(\"Input word : \")\n",
        "print(\"Reverse word:\" ,word[::-1])"
      ],
      "execution_count": 0,
      "outputs": [
        {
          "output_type": "stream",
          "text": [
            "Input word : AcadGild\n",
            "Reverse word: dliGdacA\n"
          ],
          "name": "stdout"
        }
      ]
    },
    {
      "cell_type": "markdown",
      "metadata": {
        "id": "00_lPOAXxaQ-",
        "colab_type": "text"
      },
      "source": [
        "###### 4. Write a Python Program to print the given string in the format specified in the sample output.\n",
        "WE, THE PEOPLE OF INDIA, having solemnly resolved to constitute India into a\n",
        "SOVEREIGN, SOCIALIST, SECULAR, DEMOCRATIC REPUBLIC and to secure to all\n",
        "its citizens <br>\n",
        "**Sample Output:** <br>\n",
        "WE, THE PEOPLE OF INDIA,<br>\n",
        "------having solemnly resolved to constitute India into a SOVEREIGN,!<br>\n",
        "-------------SOCIALIST, SECULAR, DEMOCRATIC REPUBLIC<br>\n",
        "--------------and to secure to all its citizens"
      ]
    },
    {
      "cell_type": "code",
      "metadata": {
        "id": "XG2aE61uv8W3",
        "colab_type": "code",
        "colab": {}
      },
      "source": [
        "str = \"WE, THE PEOPLE OF INDIA, having solemnly resolved to constitute India into a SOVEREIGN, SOCIALIST, SECULAR, DEMOCRATIC REPUBLIC and to secure to all its citizens\""
      ],
      "execution_count": 0,
      "outputs": []
    },
    {
      "cell_type": "code",
      "metadata": {
        "id": "9d2OlAaYoTQF",
        "colab_type": "code",
        "outputId": "48e84eb7-4875-47cd-ca9a-66c539770cf6",
        "colab": {
          "base_uri": "https://localhost:8080/",
          "height": 85
        }
      },
      "source": [
        "tot_str_len = len(str)\n",
        "s1_len= len(\"WE, THE PEOPLE OF INDIA,\")\n",
        "s2_len= len(\"having solemnly resolved to constitute India into a SOVEREIGN, \")\n",
        "s3_len= len(\"SOCIALIST, SECULAR, DEMOCRATIC REPUBLIC \")\n",
        "print(str[:s1_len]) \n",
        "print(\"     \"+str[s1_len:s2_len+s1_len]+\"!\")\n",
        "print(\"           \"+str[s1_len+s2_len:s1_len+s2_len+s3_len])\n",
        "print(\"            \"+str[s1_len+s2_len+s3_len:tot_str_len])"
      ],
      "execution_count": 0,
      "outputs": [
        {
          "output_type": "stream",
          "text": [
            "WE, THE PEOPLE OF INDIA,\n",
            "      having solemnly resolved to constitute India into a SOVEREIGN,!\n",
            "            SOCIALIST, SECULAR, DEMOCRATIC REPUBLIC\n",
            "             and to secure to all its citizens\n"
          ],
          "name": "stdout"
        }
      ]
    },
    {
      "cell_type": "code",
      "metadata": {
        "id": "XATaHuVWp1n-",
        "colab_type": "code",
        "colab": {}
      },
      "source": [
        ""
      ],
      "execution_count": 0,
      "outputs": []
    }
  ]
}