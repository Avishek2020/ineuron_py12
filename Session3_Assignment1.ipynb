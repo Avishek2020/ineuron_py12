{
  "nbformat": 4,
  "nbformat_minor": 0,
  "metadata": {
    "colab": {
      "name": "Session3_Assignment1.ipynb",
      "provenance": [],
      "collapsed_sections": [],
      "toc_visible": true,
      "authorship_tag": "ABX9TyOIXFD3nn9iTM6uUXNFuJ61",
      "include_colab_link": true
    },
    "kernelspec": {
      "name": "python3",
      "display_name": "Python 3"
    }
  },
  "cells": [
    {
      "cell_type": "markdown",
      "metadata": {
        "id": "view-in-github",
        "colab_type": "text"
      },
      "source": [
        "<a href=\"https://colab.research.google.com/github/Avishek2020/ineuron_py12/blob/master/Session3_Assignment1.ipynb\" target=\"_parent\"><img src=\"https://colab.research.google.com/assets/colab-badge.svg\" alt=\"Open In Colab\"/></a>"
      ]
    },
    {
      "cell_type": "markdown",
      "metadata": {
        "id": "4j4K_Jt3fvp0",
        "colab_type": "text"
      },
      "source": [
        "###Task1"
      ]
    },
    {
      "cell_type": "markdown",
      "metadata": {
        "id": "lVHiMXcEf56x",
        "colab_type": "text"
      },
      "source": [
        "####1 Write a function to compute 5/0 and use try/except to catch the exceptions.\n"
      ]
    },
    {
      "cell_type": "code",
      "metadata": {
        "id": "PKy2g-V-gOvA",
        "colab_type": "code",
        "colab": {
          "base_uri": "https://localhost:8080/",
          "height": 71
        },
        "outputId": "d80d1073-0063-4125-f1a8-fb1c0fbf658a"
      },
      "source": [
        "def divide(a,b):\n",
        "    res = a/b\n",
        "    return res\n",
        "\n",
        "a = 5\n",
        "b= int(input())\n",
        "try:\n",
        "    result = divide(a,b)\n",
        "except ZeroDivisionError:\n",
        "    print(\"You can't divide by zero!\")\n",
        "except ValueError:\n",
        "    print(\"invalid value\")\n",
        "else:\n",
        "    print(\"result is \"+ str(result))\n"
      ],
      "execution_count": 80,
      "outputs": [
        {
          "output_type": "stream",
          "text": [
            "5\n",
            "result is 1.0\n"
          ],
          "name": "stdout"
        }
      ]
    },
    {
      "cell_type": "markdown",
      "metadata": {
        "id": "W9WleSjOKvD_",
        "colab_type": "text"
      },
      "source": [
        "Output"
      ]
    },
    {
      "cell_type": "markdown",
      "metadata": {
        "colab_type": "text",
        "id": "5He3cjsKgMSN"
      },
      "source": [
        "####2 Implement a Python program to generate all sentences where subject is in [\"Americans\",\n",
        "\"Indians\"] and verb is in [\"Play\", \"watch\"] and the object is in [\"Baseball\",\"cricket\"].\n",
        "```\n",
        "Hint: Subject,Verb and Object should be declared in the program as shown below.\n",
        "subjects=[\"Americans \",\"Indians\"]\n",
        "verbs=[\"play\",\"watch\"]\n",
        "objects=[\"Baseball\",\"Cricket\"]\n",
        "```\n",
        "**Output should come as below:**\n",
        "```\n",
        "Americans play Baseball.\n",
        "Americans play Cricket.\n",
        "Americans watch Baseball.\n",
        "Americans watch Cricket.\n",
        "Indians play Baseball.\n",
        "Indians play Cricket.\n",
        "Indians watch Baseball.\n",
        "Indians watch Cricket.\n",
        "\n",
        "```\n",
        "\n",
        "\n",
        "\n"
      ]
    },
    {
      "cell_type": "code",
      "metadata": {
        "id": "K0C27h1Y3uSp",
        "colab_type": "code",
        "colab": {}
      },
      "source": [
        "subjects=[\"Americans \",\"Indians\"]\n",
        "verbs=[\"play\",\"watch\"]\n",
        "objects=[\"Baseball\",\"Cricket\"]"
      ],
      "execution_count": 0,
      "outputs": []
    },
    {
      "cell_type": "markdown",
      "metadata": {
        "id": "BU_9rBeY6thF",
        "colab_type": "text"
      },
      "source": [
        "##### Using For Loop"
      ]
    },
    {
      "cell_type": "code",
      "metadata": {
        "id": "ew3fEUuifzkI",
        "colab_type": "code",
        "colab": {}
      },
      "source": [
        " forList =[]\n",
        " for subject in subjects:\n",
        "     for verb in verbs:\n",
        "         for object in objects:\n",
        "             #print(f\"{subject} {verb} {object}\")\n",
        "             forList.append(subject+\" \"+verb+\" \"+object)             "
      ],
      "execution_count": 0,
      "outputs": []
    },
    {
      "cell_type": "code",
      "metadata": {
        "id": "0ydfgD0H7xnk",
        "colab_type": "code",
        "colab": {
          "base_uri": "https://localhost:8080/",
          "height": 187
        },
        "outputId": "025c0510-bae9-4706-d0d1-e3b057a9f071"
      },
      "source": [
        "print(\"output :-   \\n\" )\n",
        "forList"
      ],
      "execution_count": 103,
      "outputs": [
        {
          "output_type": "stream",
          "text": [
            "output :-   \n",
            "\n"
          ],
          "name": "stdout"
        },
        {
          "output_type": "execute_result",
          "data": {
            "text/plain": [
              "['Americans  play Baseball',\n",
              " 'Americans  play Cricket',\n",
              " 'Americans  watch Baseball',\n",
              " 'Americans  watch Cricket',\n",
              " 'Indians play Baseball',\n",
              " 'Indians play Cricket',\n",
              " 'Indians watch Baseball',\n",
              " 'Indians watch Cricket']"
            ]
          },
          "metadata": {
            "tags": []
          },
          "execution_count": 103
        }
      ]
    },
    {
      "cell_type": "markdown",
      "metadata": {
        "id": "SuJxyeTL6x0m",
        "colab_type": "text"
      },
      "source": [
        "##### Using List Comprehension"
      ]
    },
    {
      "cell_type": "code",
      "metadata": {
        "id": "W9r-vVJ91G3t",
        "colab_type": "code",
        "colab": {}
      },
      "source": [
        "mylist = [([([([subject+\" \" + verb +\" \"+object]) for subject in subjects]) for verb in verbs]) for object in objects]"
      ],
      "execution_count": 0,
      "outputs": []
    },
    {
      "cell_type": "markdown",
      "metadata": {
        "id": "QaB9eiy24HAH",
        "colab_type": "text"
      },
      "source": [
        "Output"
      ]
    },
    {
      "cell_type": "code",
      "metadata": {
        "id": "orR73Kzx2JrD",
        "colab_type": "code",
        "outputId": "c26ac890-6a32-41ce-cd75-91d7a4e7ba88",
        "colab": {
          "base_uri": "https://localhost:8080/",
          "height": 119
        }
      },
      "source": [
        "print(\"output :-   \\n\" )\n",
        "mylist"
      ],
      "execution_count": 61,
      "outputs": [
        {
          "output_type": "stream",
          "text": [
            "output :-   \n",
            "\n"
          ],
          "name": "stdout"
        },
        {
          "output_type": "execute_result",
          "data": {
            "text/plain": [
              "[[[['Americans  play Baseball'], ['Indians play Baseball']],\n",
              "  [['Americans  watch Baseball'], ['Indians watch Baseball']]],\n",
              " [[['Americans  play Cricket'], ['Indians play Cricket']],\n",
              "  [['Americans  watch Cricket'], ['Indians watch Cricket']]]]"
            ]
          },
          "metadata": {
            "tags": []
          },
          "execution_count": 61
        }
      ]
    },
    {
      "cell_type": "markdown",
      "metadata": {
        "id": "VQObERl0h90n",
        "colab_type": "text"
      },
      "source": [
        "##Task 2:"
      ]
    },
    {
      "cell_type": "markdown",
      "metadata": {
        "id": "7NKwJPTriDcI",
        "colab_type": "text"
      },
      "source": [
        "#### 1 Write a function so that the columns of the output matrix are powers of the input vector.\n",
        "\n",
        "The order of the powers is determined by the increasing boolean argument. Specifically, when\n",
        "increasing is False, the i-th output column is the input vector raised element-wise to the power\n",
        "of N - i - 1.\n",
        "\n",
        " \n",
        "HINT: Such a matrix with a geometric progression in each row is named for AlexandreTheophile Vandermonde.\n",
        "\n",
        "**NOTE: The solution shared through Github should contain the source code used and the\n",
        "screenshot of the output.**  \n"
      ]
    },
    {
      "cell_type": "code",
      "metadata": {
        "id": "D5XTQ910aiUM",
        "colab_type": "code",
        "colab": {}
      },
      "source": [
        "def vaderMatrix(Inarr,n, boolArg):\n",
        "    if boolArg:\n",
        "        resMatx = np.array([j**i for j in Inarr for i in range(n)]).reshape(Inarr.size,n)\n",
        "    elif not boolArg:\n",
        "        resMatx = np.array([j**(n-i-1) for j in Inarr for i in range(n)]).reshape(Inarr.size,n)\n",
        "    return resMatx"
      ],
      "execution_count": 0,
      "outputs": []
    },
    {
      "cell_type": "markdown",
      "metadata": {
        "id": "t6gE6J6Z2HAf",
        "colab_type": "text"
      },
      "source": [
        "#### Output"
      ]
    },
    {
      "cell_type": "code",
      "metadata": {
        "id": "8l07oFM6I-Yp",
        "colab_type": "code",
        "colab": {
          "base_uri": "https://localhost:8080/",
          "height": 119
        },
        "outputId": "fef6ce86-6f5b-4b09-acba-426e09f68048"
      },
      "source": [
        "x = np.array([1,2,3,4,5])\n",
        "n = 3\n",
        "boolArg = True\n",
        "Vmatrix = vaderMatrix(Inarr,n, boolArg)\n",
        "print(\"Matrix \\n\",Vmatrix)\n",
        " "
      ],
      "execution_count": 20,
      "outputs": [
        {
          "output_type": "stream",
          "text": [
            "Matrix \n",
            " [[ 1  1  1]\n",
            " [ 1  2  4]\n",
            " [ 1  3  9]\n",
            " [ 1  4 16]\n",
            " [ 1  5 25]]\n"
          ],
          "name": "stdout"
        }
      ]
    },
    {
      "cell_type": "code",
      "metadata": {
        "id": "zj9Gf8epJEMB",
        "colab_type": "code",
        "colab": {
          "base_uri": "https://localhost:8080/",
          "height": 119
        },
        "outputId": "9e84c412-4ed0-4b0f-efba-bfc571705bfc"
      },
      "source": [
        "x = np.array([1,2,3,4,5])\n",
        "n = 3\n",
        "boolArg = False\n",
        "Vmatrix = vaderMatrix(Inarr,n, boolArg)\n",
        "print(\"Matrix \\n\",Vmatrix)"
      ],
      "execution_count": 21,
      "outputs": [
        {
          "output_type": "stream",
          "text": [
            "Matrix \n",
            " [[ 1  1  1]\n",
            " [ 4  2  1]\n",
            " [ 9  3  1]\n",
            " [16  4  1]\n",
            " [25  5  1]]\n"
          ],
          "name": "stdout"
        }
      ]
    }
  ]
}