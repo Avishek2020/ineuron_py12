{
  "nbformat": 4,
  "nbformat_minor": 0,
  "metadata": {
    "colab": {
      "name": "Session2_Assignment1.ipynb",
      "provenance": [],
      "collapsed_sections": [],
      "authorship_tag": "ABX9TyPCMVigsQeazwrW2Pu1X+yK",
      "include_colab_link": true
    },
    "kernelspec": {
      "name": "python3",
      "display_name": "Python 3"
    }
  },
  "cells": [
    {
      "cell_type": "markdown",
      "metadata": {
        "id": "view-in-github",
        "colab_type": "text"
      },
      "source": [
        "<a href=\"https://colab.research.google.com/github/Avishek2020/ineuron_py12/blob/master/Session2_Assignment1.ipynb\" target=\"_parent\"><img src=\"https://colab.research.google.com/assets/colab-badge.svg\" alt=\"Open In Colab\"/></a>"
      ]
    },
    {
      "cell_type": "markdown",
      "metadata": {
        "id": "4j4K_Jt3fvp0",
        "colab_type": "text"
      },
      "source": [
        "###Task1"
      ]
    },
    {
      "cell_type": "markdown",
      "metadata": {
        "id": "lVHiMXcEf56x",
        "colab_type": "text"
      },
      "source": [
        "####1.1 Write a Python Program to implement your own myreduce() function which works exactly like Python's built-in function reduce()\n"
      ]
    },
    {
      "cell_type": "code",
      "metadata": {
        "id": "PKy2g-V-gOvA",
        "colab_type": "code",
        "colab": {}
      },
      "source": [
        "def myreduce(func,myList):\n",
        "    for i in range(1,len(myList)):\n",
        "        myList[i] =func(myList[i] , myList[i-1])     \n",
        "        #print(myList[i])\n",
        "    return myList[i] #myList[i-1]\n",
        "\n",
        "def add(x,y):\n",
        "    res = x+y\n",
        "    return res\n"
      ],
      "execution_count": 0,
      "outputs": []
    },
    {
      "cell_type": "markdown",
      "metadata": {
        "id": "W9WleSjOKvD_",
        "colab_type": "text"
      },
      "source": [
        "Output"
      ]
    },
    {
      "cell_type": "code",
      "metadata": {
        "id": "zOmqH4EmJFXR",
        "colab_type": "code",
        "colab": {
          "base_uri": "https://localhost:8080/",
          "height": 68
        },
        "outputId": "4af39119-d0f8-4095-b693-53e0e5366350"
      },
      "source": [
        "myList = [1,2,3,4 ,5, 6]\n",
        "print(\"output :-   \\n\" )\n",
        "myreduce(add, myList)"
      ],
      "execution_count": 26,
      "outputs": [
        {
          "output_type": "stream",
          "text": [
            "output :-   \n",
            "\n"
          ],
          "name": "stdout"
        },
        {
          "output_type": "execute_result",
          "data": {
            "text/plain": [
              "21"
            ]
          },
          "metadata": {
            "tags": []
          },
          "execution_count": 26
        }
      ]
    },
    {
      "cell_type": "markdown",
      "metadata": {
        "colab_type": "text",
        "id": "5He3cjsKgMSN"
      },
      "source": [
        "####1.2 Write a Python Program to implement your own myfilter() function which works exactly like Python's built-in function filter()\n"
      ]
    },
    {
      "cell_type": "code",
      "metadata": {
        "id": "K0C27h1Y3uSp",
        "colab_type": "code",
        "colab": {}
      },
      "source": [
        "def even_check(n):\n",
        "    if n%2==0:\n",
        "        return True"
      ],
      "execution_count": 0,
      "outputs": []
    },
    {
      "cell_type": "code",
      "metadata": {
        "id": "ew3fEUuifzkI",
        "colab_type": "code",
        "colab": {}
      },
      "source": [
        "def myfilter(fun, mlist):\n",
        "    newlist = []\n",
        "    for i in mlist:\n",
        "        if fun(i) is True:\n",
        "            newlist.append(i)\n",
        "    return newlist"
      ],
      "execution_count": 0,
      "outputs": []
    },
    {
      "cell_type": "markdown",
      "metadata": {
        "id": "QaB9eiy24HAH",
        "colab_type": "text"
      },
      "source": [
        "Output"
      ]
    },
    {
      "cell_type": "code",
      "metadata": {
        "id": "orR73Kzx2JrD",
        "colab_type": "code",
        "colab": {
          "base_uri": "https://localhost:8080/",
          "height": 68
        },
        "outputId": "0baa0da4-437f-4597-e385-a92d83ec37f8"
      },
      "source": [
        "mlist = [1,2,3,4,5,6,7,8,9,10]\n",
        "print(\"output :-   \\n\" )\n",
        "myfilter(even_check,mlist)"
      ],
      "execution_count": 29,
      "outputs": [
        {
          "output_type": "stream",
          "text": [
            "output :-   \n",
            "\n"
          ],
          "name": "stdout"
        },
        {
          "output_type": "execute_result",
          "data": {
            "text/plain": [
              "[2, 4, 6, 8, 10]"
            ]
          },
          "metadata": {
            "tags": []
          },
          "execution_count": 29
        }
      ]
    },
    {
      "cell_type": "markdown",
      "metadata": {
        "colab_type": "text",
        "id": "6pTeyfcQghf_"
      },
      "source": [
        "####2 Implement List comprehensions to produce the following lists.\n",
        "Write List comprehensions to produce the following Lists\n",
        "\n",
        "\n",
        "```\n",
        "sample1 = ['A', 'C', 'A', 'D', 'G', 'I', ’L’, ‘ D’]\n",
        "sample2 = ['x', 'xx', 'xxx', 'xxxx', 'y', 'yy', 'yyy', 'yyyy', 'z', 'zz', 'zzz', 'zzzz']\n",
        "sample3 = ['x', 'y', 'z', 'xx', 'yy', 'zz', 'xx', 'yy', 'zz', 'xxxx', 'yyyy', 'zzzz']\n",
        "sample4 =[[2], [3], [4], [3], [4], [5], [4], [5], [6]]\n",
        "sample5 =[[2, 3, 4, 5], [3, 4, 5, 6], [4, 5, 6, 7], [5, 6, 7, 8]]\n",
        "sample6 =[(1, 1), (2, 1), (3, 1), (1, 2), (2, 2), (3, 2), (1, 3), (2, 3), (3, 3)]\n",
        "```\n",
        "\n",
        "\n"
      ]
    },
    {
      "cell_type": "markdown",
      "metadata": {
        "id": "Vf_iSVfS9J0_",
        "colab_type": "text"
      },
      "source": [
        "####sample1"
      ]
    },
    {
      "cell_type": "code",
      "metadata": {
        "id": "9mQ6XCED5WVi",
        "colab_type": "code",
        "colab": {
          "base_uri": "https://localhost:8080/",
          "height": 68
        },
        "outputId": "bb10198f-88cc-4d69-a019-5ee74fa342b3"
      },
      "source": [
        "myList = \"ACADGILD\"\n",
        "print(\"output :-  sample1 \\n\" )\n",
        "print([i for i in myList])"
      ],
      "execution_count": 30,
      "outputs": [
        {
          "output_type": "stream",
          "text": [
            "output :-  sample1 \n",
            "\n",
            "['A', 'C', 'A', 'D', 'G', 'I', 'L', 'D']\n"
          ],
          "name": "stdout"
        }
      ]
    },
    {
      "cell_type": "markdown",
      "metadata": {
        "id": "U-dbZ4-E4MH_",
        "colab_type": "text"
      },
      "source": [
        "####sample2"
      ]
    },
    {
      "cell_type": "code",
      "metadata": {
        "id": "fRMrkG3Z6H6T",
        "colab_type": "code",
        "outputId": "70210f26-39f0-45c5-a65a-d04712470b96",
        "colab": {
          "base_uri": "https://localhost:8080/",
          "height": 68
        }
      },
      "source": [
        "list2 = [i * j for j in ['x', 'y', 'z'] for i in range(1, 5)]\n",
        "print(\"output :-  sample2 \\n\" )\n",
        "print(list2)"
      ],
      "execution_count": 31,
      "outputs": [
        {
          "output_type": "stream",
          "text": [
            "output :-  sample2 \n",
            "\n",
            "['x', 'xx', 'xxx', 'xxxx', 'y', 'yy', 'yyy', 'yyyy', 'z', 'zz', 'zzz', 'zzzz']\n"
          ],
          "name": "stdout"
        }
      ]
    },
    {
      "cell_type": "markdown",
      "metadata": {
        "id": "Fun0ZPYB6BqS",
        "colab_type": "text"
      },
      "source": [
        "####sample3"
      ]
    },
    {
      "cell_type": "code",
      "metadata": {
        "id": "e-iAST0R4eB3",
        "colab_type": "code",
        "colab": {
          "base_uri": "https://localhost:8080/",
          "height": 68
        },
        "outputId": "fba6d73e-52cb-40d3-cb60-45a7c9225626"
      },
      "source": [
        "list3 = [j * i for i in range(1,5) for j in ['x', 'y', 'z']]\n",
        "print(\"output :-  sample3 \\n\" )\n",
        "print(list3)"
      ],
      "execution_count": 32,
      "outputs": [
        {
          "output_type": "stream",
          "text": [
            "output :-  sample3 \n",
            "\n",
            "['x', 'y', 'z', 'xx', 'yy', 'zz', 'xxx', 'yyy', 'zzz', 'xxxx', 'yyyy', 'zzzz']\n"
          ],
          "name": "stdout"
        }
      ]
    },
    {
      "cell_type": "markdown",
      "metadata": {
        "id": "n-quuesb8DV9",
        "colab_type": "text"
      },
      "source": [
        "####sample4"
      ]
    },
    {
      "cell_type": "code",
      "metadata": {
        "id": "82PyEVhc8ee6",
        "colab_type": "code",
        "colab": {
          "base_uri": "https://localhost:8080/",
          "height": 68
        },
        "outputId": "1061d133-e417-44c2-89dd-20a34531edee"
      },
      "source": [
        "list4 = [[i+j] for j in range(0,3) for i in range(2,5)]\n",
        "print(\"output :-  sample4 \\n\" )\n",
        "print(list4)"
      ],
      "execution_count": 33,
      "outputs": [
        {
          "output_type": "stream",
          "text": [
            "output :-  sample4 \n",
            "\n",
            "[[2], [3], [4], [3], [4], [5], [4], [5], [6]]\n"
          ],
          "name": "stdout"
        }
      ]
    },
    {
      "cell_type": "markdown",
      "metadata": {
        "id": "DK4WGpG1vKhx",
        "colab_type": "text"
      },
      "source": [
        "####sample5"
      ]
    },
    {
      "cell_type": "code",
      "metadata": {
        "id": "cbju_BkG-F7n",
        "colab_type": "code",
        "colab": {
          "base_uri": "https://localhost:8080/",
          "height": 68
        },
        "outputId": "943a87cd-bdf9-4a38-f0ff-908c57471187"
      },
      "source": [
        "list5 = [[i + j for j in [0, 1, 2, 3]] for i in range(2, 6)]\n",
        "print(\"output :-  sample5 \\n\" )\n",
        "print(list5 )"
      ],
      "execution_count": 34,
      "outputs": [
        {
          "output_type": "stream",
          "text": [
            "output :-  sample5 \n",
            "\n",
            "[[2, 3, 4, 5], [3, 4, 5, 6], [4, 5, 6, 7], [5, 6, 7, 8]]\n"
          ],
          "name": "stdout"
        }
      ]
    },
    {
      "cell_type": "markdown",
      "metadata": {
        "id": "RKQubz3ku42k",
        "colab_type": "text"
      },
      "source": [
        "####sample6 "
      ]
    },
    {
      "cell_type": "code",
      "metadata": {
        "id": "wzSLbb-JrZv8",
        "colab_type": "code",
        "colab": {
          "base_uri": "https://localhost:8080/",
          "height": 68
        },
        "outputId": "2df7e097-6dee-4bfe-9a9d-e5ad067eecd8"
      },
      "source": [
        "list6 = [1,2,3]\n",
        "sample6 = [(i,j) for i in  list6 for j in  list6]\n",
        "print(\"output :-  sample6 \\n\" )\n",
        "print(sample6 )"
      ],
      "execution_count": 35,
      "outputs": [
        {
          "output_type": "stream",
          "text": [
            "output :-  sample6 \n",
            "\n",
            "[(1, 1), (1, 2), (1, 3), (2, 1), (2, 2), (2, 3), (3, 1), (3, 2), (3, 3)]\n"
          ],
          "name": "stdout"
        }
      ]
    },
    {
      "cell_type": "markdown",
      "metadata": {
        "id": "0esKQ2A2h0VY",
        "colab_type": "text"
      },
      "source": [
        "#### 3. Implement a function longestWord() that takes a list of words and returns the longest one.\n"
      ]
    },
    {
      "cell_type": "code",
      "metadata": {
        "id": "v3u5yFFOh6hP",
        "colab_type": "code",
        "colab": {}
      },
      "source": [
        "def longestWord(wordList):\n",
        "    long = 0\n",
        "    longword = ''\n",
        "    for i in wordList:\n",
        "        if len(i)>long:\n",
        "            long = len(i)\n",
        "            lword = i\n",
        "    return lword\n"
      ],
      "execution_count": 0,
      "outputs": []
    },
    {
      "cell_type": "markdown",
      "metadata": {
        "id": "VHxovIw8dtEU",
        "colab_type": "text"
      },
      "source": [
        "Output : Here Input worldList contain list of words.\n",
        "Our function returns longest word which is **Dark chocolate**"
      ]
    },
    {
      "cell_type": "code",
      "metadata": {
        "id": "_DKA6Ro2724d",
        "colab_type": "code",
        "colab": {
          "base_uri": "https://localhost:8080/",
          "height": 34
        },
        "outputId": "139a3370-d4b0-4042-f59b-e2b74066ee0f"
      },
      "source": [
        "wordList =['Apple','Banana','Watermelon','Mango shake','Dark chocolate']\n",
        "longestWord(wordList)"
      ],
      "execution_count": 37,
      "outputs": [
        {
          "output_type": "execute_result",
          "data": {
            "text/plain": [
              "'Dark chocolate'"
            ]
          },
          "metadata": {
            "tags": []
          },
          "execution_count": 37
        }
      ]
    },
    {
      "cell_type": "markdown",
      "metadata": {
        "id": "VQObERl0h90n",
        "colab_type": "text"
      },
      "source": [
        "##Task 2:"
      ]
    },
    {
      "cell_type": "markdown",
      "metadata": {
        "id": "7NKwJPTriDcI",
        "colab_type": "text"
      },
      "source": [
        "#### 1.1 Write a Python Program(with class concepts) to find the area of the triangle using the below\n",
        "\n",
        "```\n",
        "formula.\n",
        "area = (s*(s-a)*(s-b)*(s-c)) ** 0.5\n",
        "\n",
        "```\n",
        "\n",
        "Function to take the length of the sides of triangle from user should be defined in the parent\n",
        "class and function to calculate the area should be defined in subclass."
      ]
    },
    {
      "cell_type": "code",
      "metadata": {
        "id": "ah9tj2QgiWdH",
        "colab_type": "code",
        "colab": {}
      },
      "source": [
        "class sidesOfTriangles:\n",
        "    def __init__(self, s, a, b, c):\n",
        "        self.s = s\n",
        "        self.a = a\n",
        "        self.b = b\n",
        "        self.c = c\n",
        "        \n",
        "class areaofTriangle(sidesOfTriangles):\n",
        "    def __init__(self,s, a, b, c):\n",
        "        super().__init__(s, a, b, c)\n",
        "        #\n",
        "    def area(self):\n",
        "        area =(self.s*(self.s-self.a)*(self.s-self.b)*(self.s-self.c)) ** 0.5\n",
        "        return area\n",
        "       "
      ],
      "execution_count": 0,
      "outputs": []
    },
    {
      "cell_type": "markdown",
      "metadata": {
        "id": "t6gE6J6Z2HAf",
        "colab_type": "text"
      },
      "source": [
        "#### Output"
      ]
    },
    {
      "cell_type": "code",
      "metadata": {
        "id": "AwaHz7fw2Jcp",
        "colab_type": "code",
        "outputId": "3b26b02a-9678-43c8-f3fd-e0b24790fd60",
        "colab": {
          "base_uri": "https://localhost:8080/",
          "height": 34
        }
      },
      "source": [
        "areaOfTriangle = areaofTriangle(10,2,4,5)\n",
        "print(f\"Area of Triangle is : {areaOfTriangle.area()} \")"
      ],
      "execution_count": 39,
      "outputs": [
        {
          "output_type": "stream",
          "text": [
            "Area of Triangle is : 48.98979485566356 \n"
          ],
          "name": "stdout"
        }
      ]
    },
    {
      "cell_type": "markdown",
      "metadata": {
        "id": "_b5Xt5ggiRUY",
        "colab_type": "text"
      },
      "source": [
        "####1.2 Write a function filter_long_words() that takes a list of words and an integer n and returns the list of words that are longer than n.\n"
      ]
    },
    {
      "cell_type": "code",
      "metadata": {
        "id": "47GSJxnbh_wQ",
        "colab_type": "code",
        "colab": {}
      },
      "source": [
        "def filter_long_words(wlist, n):\n",
        "    longWord =[]\n",
        "    for word in wlist:\n",
        "        if len(word) > n:\n",
        "            longWord.append(word)\n",
        "            \n",
        "    return longWord\n"
      ],
      "execution_count": 0,
      "outputs": []
    },
    {
      "cell_type": "markdown",
      "metadata": {
        "id": "S-LN9r3uqf2p",
        "colab_type": "text"
      },
      "source": [
        "####Output\n",
        "\n",
        "```\n",
        "      variables: \n",
        "           - wordList=  to contain word list\n",
        "           - n = to store number\n",
        "```\n",
        "\n"
      ]
    },
    {
      "cell_type": "code",
      "metadata": {
        "id": "I1PEq-fLqiAM",
        "colab_type": "code",
        "outputId": "b89dd33f-0ad5-4fec-aa5c-5367cfd8a77e",
        "colab": {
          "base_uri": "https://localhost:8080/",
          "height": 34
        }
      },
      "source": [
        "wordList =['Apple','Banana','Watermelon','Mango shake','Dark chocolate']\n",
        "n = 6\n",
        "filter_long_words(wordList, n)"
      ],
      "execution_count": 41,
      "outputs": [
        {
          "output_type": "execute_result",
          "data": {
            "text/plain": [
              "['Watermelon', 'Mango shake', 'Dark chocolate']"
            ]
          },
          "metadata": {
            "tags": []
          },
          "execution_count": 41
        }
      ]
    },
    {
      "cell_type": "markdown",
      "metadata": {
        "id": "tLzjB09diaSp",
        "colab_type": "text"
      },
      "source": [
        "#### 2.1 Write a Python program using function concept that maps list of words into a list of integers representing the lengths of the corresponding words.\n",
        "**Hint:** If a list [ ab,cde,erty] is passed on to the python function output should come as [2,3,4] Here 2,3 and 4 are the lengths of the words in the list."
      ]
    },
    {
      "cell_type": "code",
      "metadata": {
        "id": "TxRjgVapihfo",
        "colab_type": "code",
        "colab": {}
      },
      "source": [
        "def wordIntegerList(wordList):\n",
        "    nlist = []\n",
        "    for i in wordList:\n",
        "        nlist.append(len(i))    \n",
        "    return nlist"
      ],
      "execution_count": 0,
      "outputs": []
    },
    {
      "cell_type": "markdown",
      "metadata": {
        "id": "upJNoUUhpyq-",
        "colab_type": "text"
      },
      "source": [
        "####Output"
      ]
    },
    {
      "cell_type": "code",
      "metadata": {
        "id": "FVhOkedAngLj",
        "colab_type": "code",
        "outputId": "22b9484d-d1b5-4bb1-88aa-9a295cdfdc7f",
        "colab": {
          "base_uri": "https://localhost:8080/",
          "height": 34
        }
      },
      "source": [
        "alist = [ 'ab','cde','erty']\n",
        "wordIntegerList(alist)"
      ],
      "execution_count": 43,
      "outputs": [
        {
          "output_type": "execute_result",
          "data": {
            "text/plain": [
              "[2, 3, 4]"
            ]
          },
          "metadata": {
            "tags": []
          },
          "execution_count": 43
        }
      ]
    },
    {
      "cell_type": "markdown",
      "metadata": {
        "id": "pSNGv5StiofT",
        "colab_type": "text"
      },
      "source": [
        "#### 2.2 Write a Python function which takes a character (i.e. a string of length 1) and returns True if it is a vowel, False otherwise.\n"
      ]
    },
    {
      "cell_type": "code",
      "metadata": {
        "id": "p49gPaEzivQa",
        "colab_type": "code",
        "colab": {}
      },
      "source": [
        "def vowelChecker(chr):\n",
        "    if chr.lower() in ['a','e','i','o','u']:\n",
        "        result = True\n",
        "    else:\n",
        "        result =False\n",
        "    return result\n"
      ],
      "execution_count": 0,
      "outputs": []
    },
    {
      "cell_type": "markdown",
      "metadata": {
        "id": "BX42PuqYkaQY",
        "colab_type": "text"
      },
      "source": [
        "#### Output"
      ]
    },
    {
      "cell_type": "code",
      "metadata": {
        "id": "OmgzGWIrjxc6",
        "colab_type": "code",
        "outputId": "78cab36c-5e48-467a-8f55-f06ae3329ee7",
        "colab": {
          "base_uri": "https://localhost:8080/",
          "height": 34
        }
      },
      "source": [
        "result = vowelChecker('b')\n",
        "result"
      ],
      "execution_count": 45,
      "outputs": [
        {
          "output_type": "execute_result",
          "data": {
            "text/plain": [
              "False"
            ]
          },
          "metadata": {
            "tags": []
          },
          "execution_count": 45
        }
      ]
    },
    {
      "cell_type": "code",
      "metadata": {
        "id": "05UjXxNGkfTj",
        "colab_type": "code",
        "outputId": "ce9b4380-95eb-4f6a-ddc9-e22876464cb0",
        "colab": {
          "base_uri": "https://localhost:8080/",
          "height": 34
        }
      },
      "source": [
        "result = vowelChecker('a')\n",
        "result"
      ],
      "execution_count": 46,
      "outputs": [
        {
          "output_type": "execute_result",
          "data": {
            "text/plain": [
              "True"
            ]
          },
          "metadata": {
            "tags": []
          },
          "execution_count": 46
        }
      ]
    }
  ]
}